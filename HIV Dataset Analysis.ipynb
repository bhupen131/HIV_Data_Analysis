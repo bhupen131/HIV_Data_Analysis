{
 "cells": [
  {
   "cell_type": "markdown",
   "metadata": {},
   "source": [
    "<h1><center>HIV DATASET ANALYSIS</center></h1>\n",
    "\n",
    "## Author : Bhupender Singh\n",
    "\n",
    "## MKR Task - 1\n",
    "\n",
    "### 📌 Problem Statement  - To Clean, Analyze and Visualize The Given HIV Dataset\n"
   ]
  },
  {
   "cell_type": "markdown",
   "metadata": {},
   "source": [
    "### Let's Start With Importing The Necessary Modules For This Data Cleaning Task"
   ]
  },
  {
   "cell_type": "code",
   "execution_count": 1,
   "metadata": {
    "scrolled": true
   },
   "outputs": [
    {
     "name": "stdout",
     "output_type": "stream",
     "text": [
      "Modules Succesfully Imported\n"
     ]
    }
   ],
   "source": [
    "import pandas as pd\n",
    "import numpy as np\n",
    "print('Modules Succesfully Imported')"
   ]
  },
  {
   "cell_type": "markdown",
   "metadata": {},
   "source": [
    "<h1><center>Sheet-1</center></h1>"
   ]
  },
  {
   "cell_type": "markdown",
   "metadata": {},
   "source": [
    "### Importing The First Dataset"
   ]
  },
  {
   "cell_type": "code",
   "execution_count": 2,
   "metadata": {},
   "outputs": [],
   "source": [
    "df1 = pd.read_excel('HIV-0000000026,SDGHIV (1).xlsx')"
   ]
  },
  {
   "cell_type": "code",
   "execution_count": 3,
   "metadata": {
    "scrolled": true
   },
   "outputs": [
    {
     "data": {
      "text/html": [
       "<div>\n",
       "<style scoped>\n",
       "    .dataframe tbody tr th:only-of-type {\n",
       "        vertical-align: middle;\n",
       "    }\n",
       "\n",
       "    .dataframe tbody tr th {\n",
       "        vertical-align: top;\n",
       "    }\n",
       "\n",
       "    .dataframe thead th {\n",
       "        text-align: right;\n",
       "    }\n",
       "</style>\n",
       "<table border=\"1\" class=\"dataframe\">\n",
       "  <thead>\n",
       "    <tr style=\"text-align: right;\">\n",
       "      <th></th>\n",
       "      <th>Unnamed: 0</th>\n",
       "      <th>Unnamed: 1</th>\n",
       "      <th>Number of new HIV infections</th>\n",
       "      <th>New HIV infections (per 1000 uninfected population)</th>\n",
       "      <th>New HIV infections (per 1000 uninfected population).1</th>\n",
       "      <th>New HIV infections (per 1000 uninfected population).2</th>\n",
       "    </tr>\n",
       "  </thead>\n",
       "  <tbody>\n",
       "    <tr>\n",
       "      <th>0</th>\n",
       "      <td>WHO region</td>\n",
       "      <td>Year</td>\n",
       "      <td></td>\n",
       "      <td>Both sexes</td>\n",
       "      <td>Male</td>\n",
       "      <td>Female</td>\n",
       "    </tr>\n",
       "    <tr>\n",
       "      <th>1</th>\n",
       "      <td>Global</td>\n",
       "      <td>2019</td>\n",
       "      <td>1 700 000 [1 200 000–2 200 000]</td>\n",
       "      <td>0.22 [0.16–0.3]</td>\n",
       "      <td>0.23 [0.17–0.32]</td>\n",
       "      <td>0.21 [0.16-0.29]</td>\n",
       "    </tr>\n",
       "    <tr>\n",
       "      <th>2</th>\n",
       "      <td>Global</td>\n",
       "      <td>2018</td>\n",
       "      <td>1 700 000 [1 200 000–2 300 000]</td>\n",
       "      <td>0.23 [0.17–0.31]</td>\n",
       "      <td>0.24 [0.17–0.33]</td>\n",
       "      <td>0.22 [0.16-0.3]</td>\n",
       "    </tr>\n",
       "    <tr>\n",
       "      <th>3</th>\n",
       "      <td>Global</td>\n",
       "      <td>2017</td>\n",
       "      <td>1 800 000 [1 300 000–2 400 000]</td>\n",
       "      <td>0.24 [0.18–0.32]</td>\n",
       "      <td>0.24 [0.18–0.34]</td>\n",
       "      <td>0.23 [0.17-0.32]</td>\n",
       "    </tr>\n",
       "    <tr>\n",
       "      <th>4</th>\n",
       "      <td>Global</td>\n",
       "      <td>2016</td>\n",
       "      <td>1 800 000 [1 300 000–2 400 000]</td>\n",
       "      <td>0.25 [0.18–0.34]</td>\n",
       "      <td>0.25 [0.18–0.35]</td>\n",
       "      <td>0.24 [0.18-0.33]</td>\n",
       "    </tr>\n",
       "  </tbody>\n",
       "</table>\n",
       "</div>"
      ],
      "text/plain": [
       "   Unnamed: 0 Unnamed: 1     Number of new HIV infections  \\\n",
       "0  WHO region       Year                                    \n",
       "1      Global       2019  1 700 000 [1 200 000–2 200 000]   \n",
       "2      Global       2018  1 700 000 [1 200 000–2 300 000]   \n",
       "3      Global       2017  1 800 000 [1 300 000–2 400 000]   \n",
       "4      Global       2016  1 800 000 [1 300 000–2 400 000]   \n",
       "\n",
       "  New HIV infections (per 1000 uninfected population)  \\\n",
       "0                                         Both sexes    \n",
       "1                                    0.22 [0.16–0.3]    \n",
       "2                                   0.23 [0.17–0.31]    \n",
       "3                                   0.24 [0.18–0.32]    \n",
       "4                                   0.25 [0.18–0.34]    \n",
       "\n",
       "  New HIV infections (per 1000 uninfected population).1  \\\n",
       "0                                               Male      \n",
       "1                                   0.23 [0.17–0.32]      \n",
       "2                                   0.24 [0.17–0.33]      \n",
       "3                                   0.24 [0.18–0.34]      \n",
       "4                                   0.25 [0.18–0.35]      \n",
       "\n",
       "  New HIV infections (per 1000 uninfected population).2  \n",
       "0                                             Female     \n",
       "1                                   0.21 [0.16-0.29]     \n",
       "2                                    0.22 [0.16-0.3]     \n",
       "3                                   0.23 [0.17-0.32]     \n",
       "4                                   0.24 [0.18-0.33]     "
      ]
     },
     "execution_count": 3,
     "metadata": {},
     "output_type": "execute_result"
    }
   ],
   "source": [
    "df1.head()"
   ]
  },
  {
   "cell_type": "code",
   "execution_count": 4,
   "metadata": {},
   "outputs": [
    {
     "data": {
      "text/plain": [
       "(211, 6)"
      ]
     },
     "execution_count": 4,
     "metadata": {},
     "output_type": "execute_result"
    }
   ],
   "source": [
    "df1.shape"
   ]
  },
  {
   "cell_type": "markdown",
   "metadata": {},
   "source": [
    "**Dataset Contains 211 Rows and 6 Columns**"
   ]
  },
  {
   "cell_type": "markdown",
   "metadata": {},
   "source": [
    "**Now Removing The Brackets and Values Inside Them To Get The Exact Value**"
   ]
  },
  {
   "cell_type": "code",
   "execution_count": 5,
   "metadata": {
    "scrolled": true
   },
   "outputs": [
    {
     "data": {
      "text/html": [
       "<div>\n",
       "<style scoped>\n",
       "    .dataframe tbody tr th:only-of-type {\n",
       "        vertical-align: middle;\n",
       "    }\n",
       "\n",
       "    .dataframe tbody tr th {\n",
       "        vertical-align: top;\n",
       "    }\n",
       "\n",
       "    .dataframe thead th {\n",
       "        text-align: right;\n",
       "    }\n",
       "</style>\n",
       "<table border=\"1\" class=\"dataframe\">\n",
       "  <thead>\n",
       "    <tr style=\"text-align: right;\">\n",
       "      <th></th>\n",
       "      <th>Unnamed: 0</th>\n",
       "      <th>Unnamed: 1</th>\n",
       "      <th>Number of new HIV infections</th>\n",
       "      <th>New HIV infections (per 1000 uninfected population)</th>\n",
       "      <th>New HIV infections (per 1000 uninfected population).1</th>\n",
       "      <th>New HIV infections (per 1000 uninfected population).2</th>\n",
       "    </tr>\n",
       "  </thead>\n",
       "  <tbody>\n",
       "    <tr>\n",
       "      <th>0</th>\n",
       "      <td>WHO region</td>\n",
       "      <td>Year</td>\n",
       "      <td></td>\n",
       "      <td>Both sexes</td>\n",
       "      <td>Male</td>\n",
       "      <td>Female</td>\n",
       "    </tr>\n",
       "    <tr>\n",
       "      <th>1</th>\n",
       "      <td>Global</td>\n",
       "      <td>2019</td>\n",
       "      <td>1 700 000</td>\n",
       "      <td>0.22</td>\n",
       "      <td>0.23</td>\n",
       "      <td>0.21</td>\n",
       "    </tr>\n",
       "    <tr>\n",
       "      <th>2</th>\n",
       "      <td>Global</td>\n",
       "      <td>2018</td>\n",
       "      <td>1 700 000</td>\n",
       "      <td>0.23</td>\n",
       "      <td>0.24</td>\n",
       "      <td>0.22</td>\n",
       "    </tr>\n",
       "    <tr>\n",
       "      <th>3</th>\n",
       "      <td>Global</td>\n",
       "      <td>2017</td>\n",
       "      <td>1 800 000</td>\n",
       "      <td>0.24</td>\n",
       "      <td>0.24</td>\n",
       "      <td>0.23</td>\n",
       "    </tr>\n",
       "    <tr>\n",
       "      <th>4</th>\n",
       "      <td>Global</td>\n",
       "      <td>2016</td>\n",
       "      <td>1 800 000</td>\n",
       "      <td>0.25</td>\n",
       "      <td>0.25</td>\n",
       "      <td>0.24</td>\n",
       "    </tr>\n",
       "  </tbody>\n",
       "</table>\n",
       "</div>"
      ],
      "text/plain": [
       "   Unnamed: 0 Unnamed: 1 Number of new HIV infections  \\\n",
       "0  WHO region       Year                                \n",
       "1      Global       2019                   1 700 000    \n",
       "2      Global       2018                   1 700 000    \n",
       "3      Global       2017                   1 800 000    \n",
       "4      Global       2016                   1 800 000    \n",
       "\n",
       "  New HIV infections (per 1000 uninfected population)  \\\n",
       "0                                         Both sexes    \n",
       "1                                              0.22     \n",
       "2                                              0.23     \n",
       "3                                              0.24     \n",
       "4                                              0.25     \n",
       "\n",
       "  New HIV infections (per 1000 uninfected population).1  \\\n",
       "0                                               Male      \n",
       "1                                              0.23       \n",
       "2                                              0.24       \n",
       "3                                              0.24       \n",
       "4                                              0.25       \n",
       "\n",
       "  New HIV infections (per 1000 uninfected population).2  \n",
       "0                                             Female     \n",
       "1                                              0.21      \n",
       "2                                              0.22      \n",
       "3                                              0.23      \n",
       "4                                              0.24      "
      ]
     },
     "execution_count": 5,
     "metadata": {},
     "output_type": "execute_result"
    }
   ],
   "source": [
    "df1['Number of new HIV infections'] = df1['Number of new HIV infections'].str.split('[').str[0]\n",
    "\n",
    "df1['New HIV infections (per 1000 uninfected population)'] = df1['New HIV infections (per 1000 uninfected population)'].str.split('[').str[0]\n",
    "\n",
    "df1['New HIV infections (per 1000 uninfected population).1'] = df1['New HIV infections (per 1000 uninfected population).1'].str.split('[').str[0]\n",
    "\n",
    "df1['New HIV infections (per 1000 uninfected population).2'] = df1['New HIV infections (per 1000 uninfected population).2'].str.split('[').str[0]\n",
    "\n",
    "df1.head()"
   ]
  },
  {
   "cell_type": "markdown",
   "metadata": {},
   "source": [
    "**We can see that at index 0 some Part of column names are present So. Let's Fix this**"
   ]
  },
  {
   "cell_type": "code",
   "execution_count": 6,
   "metadata": {},
   "outputs": [],
   "source": [
    "df1.drop(df1.index[0], inplace = True)"
   ]
  },
  {
   "cell_type": "markdown",
   "metadata": {},
   "source": [
    "**Renaming The Columns After Fixing The Index 0**"
   ]
  },
  {
   "cell_type": "code",
   "execution_count": 7,
   "metadata": {},
   "outputs": [],
   "source": [
    "df1 = df1.rename(columns={'Unnamed: 0': 'WHO region', 'Unnamed: 1': 'Year',\n",
    "                         'New HIV infections (per 1000 uninfected population)' : 'New HIV infections (per 1000 uninfected population) (Both Sexes)',\n",
    "                         'New HIV infections (per 1000 uninfected population).1' : 'New HIV infections (per 1000 uninfected population) (Male)',\n",
    "                         'New HIV infections (per 1000 uninfected population).2' : 'New HIV infections (per 1000 uninfected population) (Female)'})"
   ]
  },
  {
   "cell_type": "markdown",
   "metadata": {},
   "source": [
    "**Removing the whitespace between the numbers**"
   ]
  },
  {
   "cell_type": "code",
   "execution_count": 8,
   "metadata": {},
   "outputs": [],
   "source": [
    "for col in df1.columns:\n",
    "    if col!='Year':\n",
    "        df1[col]=df1[col].str.replace(' ','')"
   ]
  },
  {
   "cell_type": "code",
   "execution_count": 9,
   "metadata": {},
   "outputs": [
    {
     "data": {
      "text/html": [
       "<div>\n",
       "<style scoped>\n",
       "    .dataframe tbody tr th:only-of-type {\n",
       "        vertical-align: middle;\n",
       "    }\n",
       "\n",
       "    .dataframe tbody tr th {\n",
       "        vertical-align: top;\n",
       "    }\n",
       "\n",
       "    .dataframe thead th {\n",
       "        text-align: right;\n",
       "    }\n",
       "</style>\n",
       "<table border=\"1\" class=\"dataframe\">\n",
       "  <thead>\n",
       "    <tr style=\"text-align: right;\">\n",
       "      <th></th>\n",
       "      <th>WHO region</th>\n",
       "      <th>Year</th>\n",
       "      <th>Number of new HIV infections</th>\n",
       "      <th>New HIV infections (per 1000 uninfected population) (Both Sexes)</th>\n",
       "      <th>New HIV infections (per 1000 uninfected population) (Male)</th>\n",
       "      <th>New HIV infections (per 1000 uninfected population) (Female)</th>\n",
       "    </tr>\n",
       "  </thead>\n",
       "  <tbody>\n",
       "    <tr>\n",
       "      <th>1</th>\n",
       "      <td>Global</td>\n",
       "      <td>2019</td>\n",
       "      <td>1700000</td>\n",
       "      <td>0.22</td>\n",
       "      <td>0.23</td>\n",
       "      <td>0.21</td>\n",
       "    </tr>\n",
       "    <tr>\n",
       "      <th>2</th>\n",
       "      <td>Global</td>\n",
       "      <td>2018</td>\n",
       "      <td>1700000</td>\n",
       "      <td>0.23</td>\n",
       "      <td>0.24</td>\n",
       "      <td>0.22</td>\n",
       "    </tr>\n",
       "    <tr>\n",
       "      <th>3</th>\n",
       "      <td>Global</td>\n",
       "      <td>2017</td>\n",
       "      <td>1800000</td>\n",
       "      <td>0.24</td>\n",
       "      <td>0.24</td>\n",
       "      <td>0.23</td>\n",
       "    </tr>\n",
       "    <tr>\n",
       "      <th>4</th>\n",
       "      <td>Global</td>\n",
       "      <td>2016</td>\n",
       "      <td>1800000</td>\n",
       "      <td>0.25</td>\n",
       "      <td>0.25</td>\n",
       "      <td>0.24</td>\n",
       "    </tr>\n",
       "    <tr>\n",
       "      <th>5</th>\n",
       "      <td>Global</td>\n",
       "      <td>2015</td>\n",
       "      <td>1900000</td>\n",
       "      <td>0.26</td>\n",
       "      <td>0.26</td>\n",
       "      <td>0.26</td>\n",
       "    </tr>\n",
       "  </tbody>\n",
       "</table>\n",
       "</div>"
      ],
      "text/plain": [
       "  WHO region  Year Number of new HIV infections  \\\n",
       "1     Global  2019                      1700000   \n",
       "2     Global  2018                      1700000   \n",
       "3     Global  2017                      1800000   \n",
       "4     Global  2016                      1800000   \n",
       "5     Global  2015                      1900000   \n",
       "\n",
       "  New HIV infections (per 1000 uninfected population) (Both Sexes)  \\\n",
       "1                                               0.22                 \n",
       "2                                               0.23                 \n",
       "3                                               0.24                 \n",
       "4                                               0.25                 \n",
       "5                                               0.26                 \n",
       "\n",
       "  New HIV infections (per 1000 uninfected population) (Male)  \\\n",
       "1                                               0.23           \n",
       "2                                               0.24           \n",
       "3                                               0.24           \n",
       "4                                               0.25           \n",
       "5                                               0.26           \n",
       "\n",
       "  New HIV infections (per 1000 uninfected population) (Female)  \n",
       "1                                               0.21            \n",
       "2                                               0.22            \n",
       "3                                               0.23            \n",
       "4                                               0.24            \n",
       "5                                               0.26            "
      ]
     },
     "execution_count": 9,
     "metadata": {},
     "output_type": "execute_result"
    }
   ],
   "source": [
    "df1.head()"
   ]
  },
  {
   "cell_type": "code",
   "execution_count": 10,
   "metadata": {},
   "outputs": [
    {
     "data": {
      "text/plain": [
       "(210, 6)"
      ]
     },
     "execution_count": 10,
     "metadata": {},
     "output_type": "execute_result"
    }
   ],
   "source": [
    "df1.shape"
   ]
  },
  {
   "cell_type": "markdown",
   "metadata": {},
   "source": [
    "**First Dataset is cleaned and the Final Cleaned Dataset Contains 210 rows and 6 columns**"
   ]
  },
  {
   "cell_type": "code",
   "execution_count": null,
   "metadata": {},
   "outputs": [],
   "source": []
  },
  {
   "cell_type": "markdown",
   "metadata": {},
   "source": [
    "<h1><center>Sheet-2</center></h1>"
   ]
  },
  {
   "cell_type": "markdown",
   "metadata": {},
   "source": [
    "### Importing the second dataset"
   ]
  },
  {
   "cell_type": "code",
   "execution_count": 11,
   "metadata": {},
   "outputs": [],
   "source": [
    "df2 = pd.read_excel('HIV-0000000006.xlsx')"
   ]
  },
  {
   "cell_type": "code",
   "execution_count": 12,
   "metadata": {},
   "outputs": [
    {
     "data": {
      "text/html": [
       "<div>\n",
       "<style scoped>\n",
       "    .dataframe tbody tr th:only-of-type {\n",
       "        vertical-align: middle;\n",
       "    }\n",
       "\n",
       "    .dataframe tbody tr th {\n",
       "        vertical-align: top;\n",
       "    }\n",
       "\n",
       "    .dataframe thead th {\n",
       "        text-align: right;\n",
       "    }\n",
       "</style>\n",
       "<table border=\"1\" class=\"dataframe\">\n",
       "  <thead>\n",
       "    <tr style=\"text-align: right;\">\n",
       "      <th></th>\n",
       "      <th>WHO region</th>\n",
       "      <th>Year</th>\n",
       "      <th>Number of deaths due to HIV/AIDS</th>\n",
       "    </tr>\n",
       "  </thead>\n",
       "  <tbody>\n",
       "    <tr>\n",
       "      <th>0</th>\n",
       "      <td>Global</td>\n",
       "      <td>2019</td>\n",
       "      <td>690 000 [500 000–970 000]</td>\n",
       "    </tr>\n",
       "    <tr>\n",
       "      <th>1</th>\n",
       "      <td>Global</td>\n",
       "      <td>2018</td>\n",
       "      <td>730 000 [530 000–1 000 000]</td>\n",
       "    </tr>\n",
       "    <tr>\n",
       "      <th>2</th>\n",
       "      <td>Global</td>\n",
       "      <td>2017</td>\n",
       "      <td>760 000 [550 000–1 100 000]</td>\n",
       "    </tr>\n",
       "    <tr>\n",
       "      <th>3</th>\n",
       "      <td>Global</td>\n",
       "      <td>2016</td>\n",
       "      <td>800 000 [580 000–1 100 000]</td>\n",
       "    </tr>\n",
       "    <tr>\n",
       "      <th>4</th>\n",
       "      <td>Global</td>\n",
       "      <td>2015</td>\n",
       "      <td>830 000 [610 000–1 200 000]</td>\n",
       "    </tr>\n",
       "  </tbody>\n",
       "</table>\n",
       "</div>"
      ],
      "text/plain": [
       "  WHO region  Year Number of deaths due to HIV/AIDS\n",
       "0     Global  2019        690 000 [500 000–970 000]\n",
       "1     Global  2018      730 000 [530 000–1 000 000]\n",
       "2     Global  2017      760 000 [550 000–1 100 000]\n",
       "3     Global  2016      800 000 [580 000–1 100 000]\n",
       "4     Global  2015      830 000 [610 000–1 200 000]"
      ]
     },
     "execution_count": 12,
     "metadata": {},
     "output_type": "execute_result"
    }
   ],
   "source": [
    "df2.head()"
   ]
  },
  {
   "cell_type": "markdown",
   "metadata": {},
   "source": [
    "**Removing the brackets and values inside them to get the exact value**"
   ]
  },
  {
   "cell_type": "code",
   "execution_count": 13,
   "metadata": {
    "scrolled": true
   },
   "outputs": [
    {
     "data": {
      "text/html": [
       "<div>\n",
       "<style scoped>\n",
       "    .dataframe tbody tr th:only-of-type {\n",
       "        vertical-align: middle;\n",
       "    }\n",
       "\n",
       "    .dataframe tbody tr th {\n",
       "        vertical-align: top;\n",
       "    }\n",
       "\n",
       "    .dataframe thead th {\n",
       "        text-align: right;\n",
       "    }\n",
       "</style>\n",
       "<table border=\"1\" class=\"dataframe\">\n",
       "  <thead>\n",
       "    <tr style=\"text-align: right;\">\n",
       "      <th></th>\n",
       "      <th>WHO region</th>\n",
       "      <th>Year</th>\n",
       "      <th>Number of deaths due to HIV/AIDS</th>\n",
       "    </tr>\n",
       "  </thead>\n",
       "  <tbody>\n",
       "    <tr>\n",
       "      <th>0</th>\n",
       "      <td>Global</td>\n",
       "      <td>2019</td>\n",
       "      <td>690 000</td>\n",
       "    </tr>\n",
       "    <tr>\n",
       "      <th>1</th>\n",
       "      <td>Global</td>\n",
       "      <td>2018</td>\n",
       "      <td>730 000</td>\n",
       "    </tr>\n",
       "    <tr>\n",
       "      <th>2</th>\n",
       "      <td>Global</td>\n",
       "      <td>2017</td>\n",
       "      <td>760 000</td>\n",
       "    </tr>\n",
       "    <tr>\n",
       "      <th>3</th>\n",
       "      <td>Global</td>\n",
       "      <td>2016</td>\n",
       "      <td>800 000</td>\n",
       "    </tr>\n",
       "    <tr>\n",
       "      <th>4</th>\n",
       "      <td>Global</td>\n",
       "      <td>2015</td>\n",
       "      <td>830 000</td>\n",
       "    </tr>\n",
       "  </tbody>\n",
       "</table>\n",
       "</div>"
      ],
      "text/plain": [
       "  WHO region  Year Number of deaths due to HIV/AIDS\n",
       "0     Global  2019                         690 000 \n",
       "1     Global  2018                         730 000 \n",
       "2     Global  2017                         760 000 \n",
       "3     Global  2016                         800 000 \n",
       "4     Global  2015                         830 000 "
      ]
     },
     "execution_count": 13,
     "metadata": {},
     "output_type": "execute_result"
    }
   ],
   "source": [
    "df2['Number of deaths due to HIV/AIDS'] = df2['Number of deaths due to HIV/AIDS'].str.split('[').str[0]\n",
    "\n",
    "df2.head()"
   ]
  },
  {
   "cell_type": "code",
   "execution_count": 14,
   "metadata": {},
   "outputs": [
    {
     "data": {
      "text/plain": [
       "(210, 3)"
      ]
     },
     "execution_count": 14,
     "metadata": {},
     "output_type": "execute_result"
    }
   ],
   "source": [
    "df2.shape"
   ]
  },
  {
   "cell_type": "markdown",
   "metadata": {},
   "source": [
    "**Removing the whitespace between the numbers**"
   ]
  },
  {
   "cell_type": "code",
   "execution_count": 15,
   "metadata": {},
   "outputs": [],
   "source": [
    "for col in df2.columns:\n",
    "    if col!='Year':\n",
    "        df2[col]=df2[col].str.replace(' ','')"
   ]
  },
  {
   "cell_type": "code",
   "execution_count": 16,
   "metadata": {},
   "outputs": [
    {
     "data": {
      "text/html": [
       "<div>\n",
       "<style scoped>\n",
       "    .dataframe tbody tr th:only-of-type {\n",
       "        vertical-align: middle;\n",
       "    }\n",
       "\n",
       "    .dataframe tbody tr th {\n",
       "        vertical-align: top;\n",
       "    }\n",
       "\n",
       "    .dataframe thead th {\n",
       "        text-align: right;\n",
       "    }\n",
       "</style>\n",
       "<table border=\"1\" class=\"dataframe\">\n",
       "  <thead>\n",
       "    <tr style=\"text-align: right;\">\n",
       "      <th></th>\n",
       "      <th>WHO region</th>\n",
       "      <th>Year</th>\n",
       "      <th>Number of deaths due to HIV/AIDS</th>\n",
       "    </tr>\n",
       "  </thead>\n",
       "  <tbody>\n",
       "    <tr>\n",
       "      <th>0</th>\n",
       "      <td>Global</td>\n",
       "      <td>2019</td>\n",
       "      <td>690000</td>\n",
       "    </tr>\n",
       "    <tr>\n",
       "      <th>1</th>\n",
       "      <td>Global</td>\n",
       "      <td>2018</td>\n",
       "      <td>730000</td>\n",
       "    </tr>\n",
       "    <tr>\n",
       "      <th>2</th>\n",
       "      <td>Global</td>\n",
       "      <td>2017</td>\n",
       "      <td>760000</td>\n",
       "    </tr>\n",
       "    <tr>\n",
       "      <th>3</th>\n",
       "      <td>Global</td>\n",
       "      <td>2016</td>\n",
       "      <td>800000</td>\n",
       "    </tr>\n",
       "    <tr>\n",
       "      <th>4</th>\n",
       "      <td>Global</td>\n",
       "      <td>2015</td>\n",
       "      <td>830000</td>\n",
       "    </tr>\n",
       "  </tbody>\n",
       "</table>\n",
       "</div>"
      ],
      "text/plain": [
       "  WHO region  Year Number of deaths due to HIV/AIDS\n",
       "0     Global  2019                           690000\n",
       "1     Global  2018                           730000\n",
       "2     Global  2017                           760000\n",
       "3     Global  2016                           800000\n",
       "4     Global  2015                           830000"
      ]
     },
     "execution_count": 16,
     "metadata": {},
     "output_type": "execute_result"
    }
   ],
   "source": [
    "df2.head()"
   ]
  },
  {
   "cell_type": "code",
   "execution_count": 17,
   "metadata": {
    "scrolled": true
   },
   "outputs": [
    {
     "data": {
      "text/plain": [
       "(210, 3)"
      ]
     },
     "execution_count": 17,
     "metadata": {},
     "output_type": "execute_result"
    }
   ],
   "source": [
    "df2.shape"
   ]
  },
  {
   "cell_type": "markdown",
   "metadata": {},
   "source": [
    "**The second dataset is cleaned and the cleaned dataset contains 210 rows and 3 columns**"
   ]
  },
  {
   "cell_type": "markdown",
   "metadata": {},
   "source": [
    "<h1><center>Sheet-3</center><h1>"
   ]
  },
  {
   "cell_type": "markdown",
   "metadata": {},
   "source": [
    "**Importing the third dataset**"
   ]
  },
  {
   "cell_type": "code",
   "execution_count": 18,
   "metadata": {},
   "outputs": [],
   "source": [
    "df3 = pd.read_excel('HIV-0000000001 (2).xlsx')"
   ]
  },
  {
   "cell_type": "code",
   "execution_count": 19,
   "metadata": {},
   "outputs": [
    {
     "data": {
      "text/html": [
       "<div>\n",
       "<style scoped>\n",
       "    .dataframe tbody tr th:only-of-type {\n",
       "        vertical-align: middle;\n",
       "    }\n",
       "\n",
       "    .dataframe tbody tr th {\n",
       "        vertical-align: top;\n",
       "    }\n",
       "\n",
       "    .dataframe thead th {\n",
       "        text-align: right;\n",
       "    }\n",
       "</style>\n",
       "<table border=\"1\" class=\"dataframe\">\n",
       "  <thead>\n",
       "    <tr style=\"text-align: right;\">\n",
       "      <th></th>\n",
       "      <th>REGION</th>\n",
       "      <th>YEAR</th>\n",
       "      <th>PEOPLE HAVING HIV</th>\n",
       "    </tr>\n",
       "  </thead>\n",
       "  <tbody>\n",
       "    <tr>\n",
       "      <th>0</th>\n",
       "      <td>Global</td>\n",
       "      <td>2019</td>\n",
       "      <td>38 000 000</td>\n",
       "    </tr>\n",
       "    <tr>\n",
       "      <th>1</th>\n",
       "      <td>Global</td>\n",
       "      <td>2018</td>\n",
       "      <td>37 300 000</td>\n",
       "    </tr>\n",
       "    <tr>\n",
       "      <th>2</th>\n",
       "      <td>Global</td>\n",
       "      <td>2017</td>\n",
       "      <td>36 500 000</td>\n",
       "    </tr>\n",
       "    <tr>\n",
       "      <th>3</th>\n",
       "      <td>Global</td>\n",
       "      <td>2016</td>\n",
       "      <td>35 700 000</td>\n",
       "    </tr>\n",
       "    <tr>\n",
       "      <th>4</th>\n",
       "      <td>Global</td>\n",
       "      <td>2015</td>\n",
       "      <td>34 900 000</td>\n",
       "    </tr>\n",
       "  </tbody>\n",
       "</table>\n",
       "</div>"
      ],
      "text/plain": [
       "   REGION  YEAR PEOPLE HAVING HIV\n",
       "0  Global  2019       38 000 000 \n",
       "1  Global  2018        37 300 000\n",
       "2  Global  2017        36 500 000\n",
       "3  Global  2016        35 700 000\n",
       "4  Global  2015       34 900 000 "
      ]
     },
     "execution_count": 19,
     "metadata": {},
     "output_type": "execute_result"
    }
   ],
   "source": [
    "df3.head()"
   ]
  },
  {
   "cell_type": "markdown",
   "metadata": {},
   "source": [
    "**Renaming The Columns as They are Similar to WHO region & Year Column In Sheet 1 and This Also Helps In Joining/Merging The Sheets**"
   ]
  },
  {
   "cell_type": "code",
   "execution_count": 20,
   "metadata": {},
   "outputs": [],
   "source": [
    "df3 = df3.rename(columns={'REGION': 'WHO region', 'YEAR': 'Year'})"
   ]
  },
  {
   "cell_type": "code",
   "execution_count": 21,
   "metadata": {},
   "outputs": [
    {
     "data": {
      "text/html": [
       "<div>\n",
       "<style scoped>\n",
       "    .dataframe tbody tr th:only-of-type {\n",
       "        vertical-align: middle;\n",
       "    }\n",
       "\n",
       "    .dataframe tbody tr th {\n",
       "        vertical-align: top;\n",
       "    }\n",
       "\n",
       "    .dataframe thead th {\n",
       "        text-align: right;\n",
       "    }\n",
       "</style>\n",
       "<table border=\"1\" class=\"dataframe\">\n",
       "  <thead>\n",
       "    <tr style=\"text-align: right;\">\n",
       "      <th></th>\n",
       "      <th>WHO region</th>\n",
       "      <th>Year</th>\n",
       "      <th>PEOPLE HAVING HIV</th>\n",
       "    </tr>\n",
       "  </thead>\n",
       "  <tbody>\n",
       "    <tr>\n",
       "      <th>0</th>\n",
       "      <td>Global</td>\n",
       "      <td>2019</td>\n",
       "      <td>38 000 000</td>\n",
       "    </tr>\n",
       "    <tr>\n",
       "      <th>1</th>\n",
       "      <td>Global</td>\n",
       "      <td>2018</td>\n",
       "      <td>37 300 000</td>\n",
       "    </tr>\n",
       "    <tr>\n",
       "      <th>2</th>\n",
       "      <td>Global</td>\n",
       "      <td>2017</td>\n",
       "      <td>36 500 000</td>\n",
       "    </tr>\n",
       "    <tr>\n",
       "      <th>3</th>\n",
       "      <td>Global</td>\n",
       "      <td>2016</td>\n",
       "      <td>35 700 000</td>\n",
       "    </tr>\n",
       "    <tr>\n",
       "      <th>4</th>\n",
       "      <td>Global</td>\n",
       "      <td>2015</td>\n",
       "      <td>34 900 000</td>\n",
       "    </tr>\n",
       "  </tbody>\n",
       "</table>\n",
       "</div>"
      ],
      "text/plain": [
       "  WHO region  Year PEOPLE HAVING HIV\n",
       "0     Global  2019       38 000 000 \n",
       "1     Global  2018        37 300 000\n",
       "2     Global  2017        36 500 000\n",
       "3     Global  2016        35 700 000\n",
       "4     Global  2015       34 900 000 "
      ]
     },
     "execution_count": 21,
     "metadata": {},
     "output_type": "execute_result"
    }
   ],
   "source": [
    "df3.head()"
   ]
  },
  {
   "cell_type": "code",
   "execution_count": 22,
   "metadata": {
    "scrolled": true
   },
   "outputs": [
    {
     "data": {
      "text/plain": [
       "(210, 3)"
      ]
     },
     "execution_count": 22,
     "metadata": {},
     "output_type": "execute_result"
    }
   ],
   "source": [
    "df3.shape"
   ]
  },
  {
   "cell_type": "markdown",
   "metadata": {},
   "source": [
    "**Removing the Whitespace between the numbers**"
   ]
  },
  {
   "cell_type": "code",
   "execution_count": 23,
   "metadata": {},
   "outputs": [],
   "source": [
    "for col in df3.columns:\n",
    "    if col!='Year':\n",
    "        df3[col]=df3[col].str.replace(' ','')"
   ]
  },
  {
   "cell_type": "code",
   "execution_count": 24,
   "metadata": {},
   "outputs": [
    {
     "data": {
      "text/plain": [
       "(210, 3)"
      ]
     },
     "execution_count": 24,
     "metadata": {},
     "output_type": "execute_result"
    }
   ],
   "source": [
    "df3.shape"
   ]
  },
  {
   "cell_type": "markdown",
   "metadata": {},
   "source": [
    "**The Third dataset is cleaned and The cleaned Dataset contains 210 rows and columns**"
   ]
  },
  {
   "cell_type": "markdown",
   "metadata": {},
   "source": [
    "<h1><center>Merging The Sheets</center></h1>"
   ]
  },
  {
   "cell_type": "markdown",
   "metadata": {},
   "source": [
    "### Merging Sheets 1 & 2"
   ]
  },
  {
   "cell_type": "code",
   "execution_count": 25,
   "metadata": {},
   "outputs": [],
   "source": [
    "df_merge1 = pd.merge(df1,df2, on=['WHO region', 'Year'], how='inner')"
   ]
  },
  {
   "cell_type": "code",
   "execution_count": 26,
   "metadata": {},
   "outputs": [
    {
     "data": {
      "text/html": [
       "<div>\n",
       "<style scoped>\n",
       "    .dataframe tbody tr th:only-of-type {\n",
       "        vertical-align: middle;\n",
       "    }\n",
       "\n",
       "    .dataframe tbody tr th {\n",
       "        vertical-align: top;\n",
       "    }\n",
       "\n",
       "    .dataframe thead th {\n",
       "        text-align: right;\n",
       "    }\n",
       "</style>\n",
       "<table border=\"1\" class=\"dataframe\">\n",
       "  <thead>\n",
       "    <tr style=\"text-align: right;\">\n",
       "      <th></th>\n",
       "      <th>WHO region</th>\n",
       "      <th>Year</th>\n",
       "      <th>Number of new HIV infections</th>\n",
       "      <th>New HIV infections (per 1000 uninfected population) (Both Sexes)</th>\n",
       "      <th>New HIV infections (per 1000 uninfected population) (Male)</th>\n",
       "      <th>New HIV infections (per 1000 uninfected population) (Female)</th>\n",
       "      <th>Number of deaths due to HIV/AIDS</th>\n",
       "    </tr>\n",
       "  </thead>\n",
       "  <tbody>\n",
       "    <tr>\n",
       "      <th>0</th>\n",
       "      <td>Global</td>\n",
       "      <td>2019</td>\n",
       "      <td>1700000</td>\n",
       "      <td>0.22</td>\n",
       "      <td>0.23</td>\n",
       "      <td>0.21</td>\n",
       "      <td>690000</td>\n",
       "    </tr>\n",
       "    <tr>\n",
       "      <th>1</th>\n",
       "      <td>Global</td>\n",
       "      <td>2018</td>\n",
       "      <td>1700000</td>\n",
       "      <td>0.23</td>\n",
       "      <td>0.24</td>\n",
       "      <td>0.22</td>\n",
       "      <td>730000</td>\n",
       "    </tr>\n",
       "    <tr>\n",
       "      <th>2</th>\n",
       "      <td>Global</td>\n",
       "      <td>2017</td>\n",
       "      <td>1800000</td>\n",
       "      <td>0.24</td>\n",
       "      <td>0.24</td>\n",
       "      <td>0.23</td>\n",
       "      <td>760000</td>\n",
       "    </tr>\n",
       "    <tr>\n",
       "      <th>3</th>\n",
       "      <td>Global</td>\n",
       "      <td>2016</td>\n",
       "      <td>1800000</td>\n",
       "      <td>0.25</td>\n",
       "      <td>0.25</td>\n",
       "      <td>0.24</td>\n",
       "      <td>800000</td>\n",
       "    </tr>\n",
       "    <tr>\n",
       "      <th>4</th>\n",
       "      <td>Global</td>\n",
       "      <td>2015</td>\n",
       "      <td>1900000</td>\n",
       "      <td>0.26</td>\n",
       "      <td>0.26</td>\n",
       "      <td>0.26</td>\n",
       "      <td>830000</td>\n",
       "    </tr>\n",
       "  </tbody>\n",
       "</table>\n",
       "</div>"
      ],
      "text/plain": [
       "  WHO region  Year Number of new HIV infections  \\\n",
       "0     Global  2019                      1700000   \n",
       "1     Global  2018                      1700000   \n",
       "2     Global  2017                      1800000   \n",
       "3     Global  2016                      1800000   \n",
       "4     Global  2015                      1900000   \n",
       "\n",
       "  New HIV infections (per 1000 uninfected population) (Both Sexes)  \\\n",
       "0                                               0.22                 \n",
       "1                                               0.23                 \n",
       "2                                               0.24                 \n",
       "3                                               0.25                 \n",
       "4                                               0.26                 \n",
       "\n",
       "  New HIV infections (per 1000 uninfected population) (Male)  \\\n",
       "0                                               0.23           \n",
       "1                                               0.24           \n",
       "2                                               0.24           \n",
       "3                                               0.25           \n",
       "4                                               0.26           \n",
       "\n",
       "  New HIV infections (per 1000 uninfected population) (Female)  \\\n",
       "0                                               0.21             \n",
       "1                                               0.22             \n",
       "2                                               0.23             \n",
       "3                                               0.24             \n",
       "4                                               0.26             \n",
       "\n",
       "  Number of deaths due to HIV/AIDS  \n",
       "0                           690000  \n",
       "1                           730000  \n",
       "2                           760000  \n",
       "3                           800000  \n",
       "4                           830000  "
      ]
     },
     "execution_count": 26,
     "metadata": {},
     "output_type": "execute_result"
    }
   ],
   "source": [
    "df_merge1.head()"
   ]
  },
  {
   "cell_type": "code",
   "execution_count": 27,
   "metadata": {},
   "outputs": [
    {
     "data": {
      "text/plain": [
       "(210, 7)"
      ]
     },
     "execution_count": 27,
     "metadata": {},
     "output_type": "execute_result"
    }
   ],
   "source": [
    "df_merge1.shape"
   ]
  },
  {
   "cell_type": "code",
   "execution_count": null,
   "metadata": {},
   "outputs": [],
   "source": []
  },
  {
   "cell_type": "markdown",
   "metadata": {},
   "source": [
    "### Merging All Three Together "
   ]
  },
  {
   "cell_type": "code",
   "execution_count": 28,
   "metadata": {},
   "outputs": [],
   "source": [
    "df_merge2 = pd.merge( df_merge1, df3, on=['WHO region','Year'], how='inner')"
   ]
  },
  {
   "cell_type": "code",
   "execution_count": 29,
   "metadata": {},
   "outputs": [
    {
     "data": {
      "text/html": [
       "<div>\n",
       "<style scoped>\n",
       "    .dataframe tbody tr th:only-of-type {\n",
       "        vertical-align: middle;\n",
       "    }\n",
       "\n",
       "    .dataframe tbody tr th {\n",
       "        vertical-align: top;\n",
       "    }\n",
       "\n",
       "    .dataframe thead th {\n",
       "        text-align: right;\n",
       "    }\n",
       "</style>\n",
       "<table border=\"1\" class=\"dataframe\">\n",
       "  <thead>\n",
       "    <tr style=\"text-align: right;\">\n",
       "      <th></th>\n",
       "      <th>WHO region</th>\n",
       "      <th>Year</th>\n",
       "      <th>Number of new HIV infections</th>\n",
       "      <th>New HIV infections (per 1000 uninfected population) (Both Sexes)</th>\n",
       "      <th>New HIV infections (per 1000 uninfected population) (Male)</th>\n",
       "      <th>New HIV infections (per 1000 uninfected population) (Female)</th>\n",
       "      <th>Number of deaths due to HIV/AIDS</th>\n",
       "      <th>PEOPLE HAVING HIV</th>\n",
       "    </tr>\n",
       "  </thead>\n",
       "  <tbody>\n",
       "    <tr>\n",
       "      <th>0</th>\n",
       "      <td>Global</td>\n",
       "      <td>2019</td>\n",
       "      <td>1700000</td>\n",
       "      <td>0.22</td>\n",
       "      <td>0.23</td>\n",
       "      <td>0.21</td>\n",
       "      <td>690000</td>\n",
       "      <td>38000000</td>\n",
       "    </tr>\n",
       "    <tr>\n",
       "      <th>1</th>\n",
       "      <td>Global</td>\n",
       "      <td>2018</td>\n",
       "      <td>1700000</td>\n",
       "      <td>0.23</td>\n",
       "      <td>0.24</td>\n",
       "      <td>0.22</td>\n",
       "      <td>730000</td>\n",
       "      <td>37300000</td>\n",
       "    </tr>\n",
       "    <tr>\n",
       "      <th>2</th>\n",
       "      <td>Global</td>\n",
       "      <td>2017</td>\n",
       "      <td>1800000</td>\n",
       "      <td>0.24</td>\n",
       "      <td>0.24</td>\n",
       "      <td>0.23</td>\n",
       "      <td>760000</td>\n",
       "      <td>36500000</td>\n",
       "    </tr>\n",
       "    <tr>\n",
       "      <th>3</th>\n",
       "      <td>Global</td>\n",
       "      <td>2016</td>\n",
       "      <td>1800000</td>\n",
       "      <td>0.25</td>\n",
       "      <td>0.25</td>\n",
       "      <td>0.24</td>\n",
       "      <td>800000</td>\n",
       "      <td>35700000</td>\n",
       "    </tr>\n",
       "    <tr>\n",
       "      <th>4</th>\n",
       "      <td>Global</td>\n",
       "      <td>2015</td>\n",
       "      <td>1900000</td>\n",
       "      <td>0.26</td>\n",
       "      <td>0.26</td>\n",
       "      <td>0.26</td>\n",
       "      <td>830000</td>\n",
       "      <td>34900000</td>\n",
       "    </tr>\n",
       "  </tbody>\n",
       "</table>\n",
       "</div>"
      ],
      "text/plain": [
       "  WHO region  Year Number of new HIV infections  \\\n",
       "0     Global  2019                      1700000   \n",
       "1     Global  2018                      1700000   \n",
       "2     Global  2017                      1800000   \n",
       "3     Global  2016                      1800000   \n",
       "4     Global  2015                      1900000   \n",
       "\n",
       "  New HIV infections (per 1000 uninfected population) (Both Sexes)  \\\n",
       "0                                               0.22                 \n",
       "1                                               0.23                 \n",
       "2                                               0.24                 \n",
       "3                                               0.25                 \n",
       "4                                               0.26                 \n",
       "\n",
       "  New HIV infections (per 1000 uninfected population) (Male)  \\\n",
       "0                                               0.23           \n",
       "1                                               0.24           \n",
       "2                                               0.24           \n",
       "3                                               0.25           \n",
       "4                                               0.26           \n",
       "\n",
       "  New HIV infections (per 1000 uninfected population) (Female)  \\\n",
       "0                                               0.21             \n",
       "1                                               0.22             \n",
       "2                                               0.23             \n",
       "3                                               0.24             \n",
       "4                                               0.26             \n",
       "\n",
       "  Number of deaths due to HIV/AIDS PEOPLE HAVING HIV  \n",
       "0                           690000          38000000  \n",
       "1                           730000          37300000  \n",
       "2                           760000          36500000  \n",
       "3                           800000          35700000  \n",
       "4                           830000          34900000  "
      ]
     },
     "execution_count": 29,
     "metadata": {},
     "output_type": "execute_result"
    }
   ],
   "source": [
    "df_merge2.head()"
   ]
  },
  {
   "cell_type": "code",
   "execution_count": 30,
   "metadata": {},
   "outputs": [
    {
     "data": {
      "text/plain": [
       "(210, 8)"
      ]
     },
     "execution_count": 30,
     "metadata": {},
     "output_type": "execute_result"
    }
   ],
   "source": [
    "df_merge2.shape"
   ]
  },
  {
   "cell_type": "code",
   "execution_count": 31,
   "metadata": {
    "scrolled": true
   },
   "outputs": [
    {
     "data": {
      "text/html": [
       "<div>\n",
       "<style scoped>\n",
       "    .dataframe tbody tr th:only-of-type {\n",
       "        vertical-align: middle;\n",
       "    }\n",
       "\n",
       "    .dataframe tbody tr th {\n",
       "        vertical-align: top;\n",
       "    }\n",
       "\n",
       "    .dataframe thead th {\n",
       "        text-align: right;\n",
       "    }\n",
       "</style>\n",
       "<table border=\"1\" class=\"dataframe\">\n",
       "  <thead>\n",
       "    <tr style=\"text-align: right;\">\n",
       "      <th></th>\n",
       "      <th>WHO region</th>\n",
       "      <th>Year</th>\n",
       "      <th>Number of new HIV infections</th>\n",
       "      <th>New HIV infections (per 1000 uninfected population) (Both Sexes)</th>\n",
       "      <th>New HIV infections (per 1000 uninfected population) (Male)</th>\n",
       "      <th>New HIV infections (per 1000 uninfected population) (Female)</th>\n",
       "      <th>Number of deaths due to HIV/AIDS</th>\n",
       "      <th>PEOPLE HAVING HIV</th>\n",
       "    </tr>\n",
       "  </thead>\n",
       "  <tbody>\n",
       "    <tr>\n",
       "      <th>205</th>\n",
       "      <td>WesternPacific</td>\n",
       "      <td>1994</td>\n",
       "      <td>140000</td>\n",
       "      <td>0.09</td>\n",
       "      <td>0.13</td>\n",
       "      <td>0.05</td>\n",
       "      <td>7700</td>\n",
       "      <td>320000</td>\n",
       "    </tr>\n",
       "    <tr>\n",
       "      <th>206</th>\n",
       "      <td>WesternPacific</td>\n",
       "      <td>1993</td>\n",
       "      <td>50000</td>\n",
       "      <td>0.03</td>\n",
       "      <td>0.05</td>\n",
       "      <td>0.02</td>\n",
       "      <td>5500</td>\n",
       "      <td>200000</td>\n",
       "    </tr>\n",
       "    <tr>\n",
       "      <th>207</th>\n",
       "      <td>WesternPacific</td>\n",
       "      <td>1992</td>\n",
       "      <td>40000</td>\n",
       "      <td>0.03</td>\n",
       "      <td>0.04</td>\n",
       "      <td>0.01</td>\n",
       "      <td>4000</td>\n",
       "      <td>150000</td>\n",
       "    </tr>\n",
       "    <tr>\n",
       "      <th>208</th>\n",
       "      <td>WesternPacific</td>\n",
       "      <td>1991</td>\n",
       "      <td>30000</td>\n",
       "      <td>0.02</td>\n",
       "      <td>0.03</td>\n",
       "      <td>&amp;lt;0.01</td>\n",
       "      <td>2900</td>\n",
       "      <td>120000</td>\n",
       "    </tr>\n",
       "    <tr>\n",
       "      <th>209</th>\n",
       "      <td>WesternPacific</td>\n",
       "      <td>1990</td>\n",
       "      <td>23000</td>\n",
       "      <td>0.02</td>\n",
       "      <td>0.02</td>\n",
       "      <td>&amp;lt;0.01</td>\n",
       "      <td>2100</td>\n",
       "      <td>90000</td>\n",
       "    </tr>\n",
       "  </tbody>\n",
       "</table>\n",
       "</div>"
      ],
      "text/plain": [
       "         WHO region  Year Number of new HIV infections  \\\n",
       "205  WesternPacific  1994                       140000   \n",
       "206  WesternPacific  1993                        50000   \n",
       "207  WesternPacific  1992                        40000   \n",
       "208  WesternPacific  1991                        30000   \n",
       "209  WesternPacific  1990                        23000   \n",
       "\n",
       "    New HIV infections (per 1000 uninfected population) (Both Sexes)  \\\n",
       "205                                               0.09                 \n",
       "206                                               0.03                 \n",
       "207                                               0.03                 \n",
       "208                                               0.02                 \n",
       "209                                               0.02                 \n",
       "\n",
       "    New HIV infections (per 1000 uninfected population) (Male)  \\\n",
       "205                                               0.13           \n",
       "206                                               0.05           \n",
       "207                                               0.04           \n",
       "208                                               0.03           \n",
       "209                                               0.02           \n",
       "\n",
       "    New HIV infections (per 1000 uninfected population) (Female)  \\\n",
       "205                                               0.05             \n",
       "206                                               0.02             \n",
       "207                                               0.01             \n",
       "208                                           &lt;0.01             \n",
       "209                                           &lt;0.01             \n",
       "\n",
       "    Number of deaths due to HIV/AIDS PEOPLE HAVING HIV  \n",
       "205                             7700            320000  \n",
       "206                             5500            200000  \n",
       "207                             4000            150000  \n",
       "208                             2900            120000  \n",
       "209                             2100             90000  "
      ]
     },
     "execution_count": 31,
     "metadata": {},
     "output_type": "execute_result"
    }
   ],
   "source": [
    "df_merge2.tail()"
   ]
  },
  {
   "cell_type": "code",
   "execution_count": 32,
   "metadata": {},
   "outputs": [
    {
     "data": {
      "text/plain": [
       "Index(['WHO region', 'Year', 'Number of new HIV infections',\n",
       "       'New HIV infections (per 1000 uninfected population) (Both Sexes)',\n",
       "       'New HIV infections (per 1000 uninfected population) (Male)',\n",
       "       'New HIV infections (per 1000 uninfected population) (Female)',\n",
       "       'Number of deaths due to HIV/AIDS', 'PEOPLE HAVING HIV'],\n",
       "      dtype='object')"
      ]
     },
     "execution_count": 32,
     "metadata": {},
     "output_type": "execute_result"
    }
   ],
   "source": [
    "df_merge2.columns"
   ]
  },
  {
   "cell_type": "markdown",
   "metadata": {},
   "source": [
    "**Changing some values eg. & lt;0.01 to the closest value**"
   ]
  },
  {
   "cell_type": "code",
   "execution_count": 33,
   "metadata": {
    "scrolled": false
   },
   "outputs": [
    {
     "data": {
      "text/plain": [
       "array(['0.22', '0.23', '0.24', '0.25', '0.26', '0.27', '0.28', '0.29',\n",
       "       '0.3', '0.32', '0.33', '0.34', '0.35', '0.36', '0.37', '0.38',\n",
       "       '0.4', '0.42', '0.43', '0.45', '0.47', '0.48', '0.49', '0.41',\n",
       "       '0.94', '1', '1.09', '1.17', '1.26', '1.36', '1.46', '1.57', '1.7',\n",
       "       '1.83', '1.94', '2.06', '2.18', '2.3', '2.41', '2.53', '2.66',\n",
       "       '2.8', '2.94', '3.09', '3.22', '3.34', '3.44', '3.51', '3.57',\n",
       "       '3.59', '3.54', '3.42', '3.21', '2.92', '0.17', '0.18', '0.19',\n",
       "       '0.2', '0.21', '0.08', '0.09', '0.1', '0.11', '0.12', '0.13',\n",
       "       '0.14', '0.15', '0.16', '0.07', '0.06', '0.05', '0.04', '0.03',\n",
       "       '0.02', '0.01', '&lt;0.01'], dtype=object)"
      ]
     },
     "execution_count": 33,
     "metadata": {},
     "output_type": "execute_result"
    }
   ],
   "source": [
    "df_merge2['New HIV infections (per 1000 uninfected population) (Both Sexes)'].unique()"
   ]
  },
  {
   "cell_type": "code",
   "execution_count": 34,
   "metadata": {
    "scrolled": false
   },
   "outputs": [
    {
     "data": {
      "text/plain": [
       "array(['0.21', '0.22', '0.23', '0.24', '0.26', '0.27', '0.28', '0.29',\n",
       "       '0.31', '0.32', '0.34', '0.35', '0.36', '0.37', '0.39', '0.4',\n",
       "       '0.41', '0.43', '0.45', '0.47', '0.48', '0.49', '0.5', '0.44',\n",
       "       '1.11', '1.18', '1.29', '1.38', '1.48', '1.6', '1.71', '1.85',\n",
       "       '1.99', '2.14', '2.26', '2.39', '2.53', '2.66', '2.79', '2.92',\n",
       "       '3.07', '3.23', '3.4', '3.56', '3.71', '3.84', '3.95', '4.02',\n",
       "       '4.07', '4.08', '3.99', '3.83', '3.55', '3.19', '0.09', '0.1',\n",
       "       '0.11', '0.12', '0.13', '0.14', '0.15', '0.06', '0.07', '0.08',\n",
       "       '0.16', '0.19', '0.2', '0.05', '0.04', '0.03', '0.02', '0.01',\n",
       "       '&lt;0.01'], dtype=object)"
      ]
     },
     "execution_count": 34,
     "metadata": {},
     "output_type": "execute_result"
    }
   ],
   "source": [
    "df_merge2['New HIV infections (per 1000 uninfected population) (Female)'].unique()"
   ]
  },
  {
   "cell_type": "code",
   "execution_count": 35,
   "metadata": {
    "scrolled": true
   },
   "outputs": [
    {
     "data": {
      "text/plain": [
       "array(['690000', '730000', '760000', '800000', '830000', '870000',\n",
       "       '930000', '1000000', '1100000', '1200000', '1400000', '1500000',\n",
       "       '1600000', '1700000', '1300000', '940000', '700000', '580000',\n",
       "       '480000', '380000', '300000', '440000', '460000', '510000',\n",
       "       '530000', '570000', '610000', '680000', '740000', '810000',\n",
       "       '890000', '910000', '710000', '520000', '430000', '350000',\n",
       "       '280000', '220000', '52000', '50000', '51000', '54000', '56000',\n",
       "       '57000', '59000', '63000', '65000', '67000', '69000', '75000',\n",
       "       '78000', '79000', '80000', '73000', '71000', '98000', '110000',\n",
       "       '99000', '89000', '66000', '120000', '130000', '140000', '150000',\n",
       "       '170000', '190000', '200000', '230000', '210000', '100000',\n",
       "       '83000', '64000', '46000', '32000', '20000', '12000', '5800',\n",
       "       '39000', '38000', '37000', '34000', '33000', '36000', '31000',\n",
       "       '28000', '25000', '22000', '18000', '17000', '19000', '26000',\n",
       "       '24000', '16000', '13000', '15000', '14000', '11000', '10000',\n",
       "       '9600', '9100', '9000', '8500', '7800', '7000', '6400', '5200',\n",
       "       '4500', '3900', '3300', '2700', '2200', '1800', '1500', '1100',\n",
       "       '900', '700', '540', '&lt;500', '41000', '42000', '44000', '45000',\n",
       "       '49000', '55000', '61000', '7700', '5500', '4000', '2900', '2100'],\n",
       "      dtype=object)"
      ]
     },
     "execution_count": 35,
     "metadata": {},
     "output_type": "execute_result"
    }
   ],
   "source": [
    "df_merge2['Number of deaths due to HIV/AIDS'].unique()"
   ]
  },
  {
   "cell_type": "markdown",
   "metadata": {},
   "source": [
    "**Correcting The values**"
   ]
  },
  {
   "cell_type": "code",
   "execution_count": 36,
   "metadata": {},
   "outputs": [],
   "source": [
    "for i in df_merge2.columns:\n",
    "    if i=='New HIV infections (per 1000 uninfected population) (Both Sexes)' or i=='New HIV infections (per 1000 uninfected population) (Female)':\n",
    "        df_merge2[i]=df_merge2[i].str.replace('&lt;0.01','0.01')"
   ]
  },
  {
   "cell_type": "code",
   "execution_count": 37,
   "metadata": {},
   "outputs": [],
   "source": [
    "df_merge2['Number of deaths due to HIV/AIDS'] = df_merge2['Number of deaths due to HIV/AIDS'].str.replace('&lt;500','500')"
   ]
  },
  {
   "cell_type": "markdown",
   "metadata": {},
   "source": [
    "***checking now***"
   ]
  },
  {
   "cell_type": "code",
   "execution_count": 38,
   "metadata": {
    "scrolled": false
   },
   "outputs": [
    {
     "data": {
      "text/plain": [
       "array(['0.21', '0.22', '0.23', '0.24', '0.26', '0.27', '0.28', '0.29',\n",
       "       '0.31', '0.32', '0.34', '0.35', '0.36', '0.37', '0.39', '0.4',\n",
       "       '0.41', '0.43', '0.45', '0.47', '0.48', '0.49', '0.5', '0.44',\n",
       "       '1.11', '1.18', '1.29', '1.38', '1.48', '1.6', '1.71', '1.85',\n",
       "       '1.99', '2.14', '2.26', '2.39', '2.53', '2.66', '2.79', '2.92',\n",
       "       '3.07', '3.23', '3.4', '3.56', '3.71', '3.84', '3.95', '4.02',\n",
       "       '4.07', '4.08', '3.99', '3.83', '3.55', '3.19', '0.09', '0.1',\n",
       "       '0.11', '0.12', '0.13', '0.14', '0.15', '0.06', '0.07', '0.08',\n",
       "       '0.16', '0.19', '0.2', '0.05', '0.04', '0.03', '0.02', '0.01'],\n",
       "      dtype=object)"
      ]
     },
     "execution_count": 38,
     "metadata": {},
     "output_type": "execute_result"
    }
   ],
   "source": [
    "df_merge2['New HIV infections (per 1000 uninfected population) (Female)'].unique()"
   ]
  },
  {
   "cell_type": "code",
   "execution_count": 39,
   "metadata": {},
   "outputs": [
    {
     "data": {
      "text/plain": [
       "array(['0.22', '0.23', '0.24', '0.25', '0.26', '0.27', '0.28', '0.29',\n",
       "       '0.3', '0.32', '0.33', '0.34', '0.35', '0.36', '0.37', '0.38',\n",
       "       '0.4', '0.42', '0.43', '0.45', '0.47', '0.48', '0.49', '0.41',\n",
       "       '0.94', '1', '1.09', '1.17', '1.26', '1.36', '1.46', '1.57', '1.7',\n",
       "       '1.83', '1.94', '2.06', '2.18', '2.3', '2.41', '2.53', '2.66',\n",
       "       '2.8', '2.94', '3.09', '3.22', '3.34', '3.44', '3.51', '3.57',\n",
       "       '3.59', '3.54', '3.42', '3.21', '2.92', '0.17', '0.18', '0.19',\n",
       "       '0.2', '0.21', '0.08', '0.09', '0.1', '0.11', '0.12', '0.13',\n",
       "       '0.14', '0.15', '0.16', '0.07', '0.06', '0.05', '0.04', '0.03',\n",
       "       '0.02', '0.01'], dtype=object)"
      ]
     },
     "execution_count": 39,
     "metadata": {},
     "output_type": "execute_result"
    }
   ],
   "source": [
    "df_merge2['New HIV infections (per 1000 uninfected population) (Both Sexes)'].unique()"
   ]
  },
  {
   "cell_type": "code",
   "execution_count": 40,
   "metadata": {
    "scrolled": true
   },
   "outputs": [
    {
     "data": {
      "text/plain": [
       "array(['690000', '730000', '760000', '800000', '830000', '870000',\n",
       "       '930000', '1000000', '1100000', '1200000', '1400000', '1500000',\n",
       "       '1600000', '1700000', '1300000', '940000', '700000', '580000',\n",
       "       '480000', '380000', '300000', '440000', '460000', '510000',\n",
       "       '530000', '570000', '610000', '680000', '740000', '810000',\n",
       "       '890000', '910000', '710000', '520000', '430000', '350000',\n",
       "       '280000', '220000', '52000', '50000', '51000', '54000', '56000',\n",
       "       '57000', '59000', '63000', '65000', '67000', '69000', '75000',\n",
       "       '78000', '79000', '80000', '73000', '71000', '98000', '110000',\n",
       "       '99000', '89000', '66000', '120000', '130000', '140000', '150000',\n",
       "       '170000', '190000', '200000', '230000', '210000', '100000',\n",
       "       '83000', '64000', '46000', '32000', '20000', '12000', '5800',\n",
       "       '39000', '38000', '37000', '34000', '33000', '36000', '31000',\n",
       "       '28000', '25000', '22000', '18000', '17000', '19000', '26000',\n",
       "       '24000', '16000', '13000', '15000', '14000', '11000', '10000',\n",
       "       '9600', '9100', '9000', '8500', '7800', '7000', '6400', '5200',\n",
       "       '4500', '3900', '3300', '2700', '2200', '1800', '1500', '1100',\n",
       "       '900', '700', '540', '500', '41000', '42000', '44000', '45000',\n",
       "       '49000', '55000', '61000', '7700', '5500', '4000', '2900', '2100'],\n",
       "      dtype=object)"
      ]
     },
     "execution_count": 40,
     "metadata": {},
     "output_type": "execute_result"
    }
   ],
   "source": [
    "df_merge2['Number of deaths due to HIV/AIDS'].unique()"
   ]
  },
  {
   "cell_type": "code",
   "execution_count": 41,
   "metadata": {
    "scrolled": false
   },
   "outputs": [
    {
     "data": {
      "text/plain": [
       "WHO region                                                          object\n",
       "Year                                                                object\n",
       "Number of new HIV infections                                        object\n",
       "New HIV infections (per 1000 uninfected population) (Both Sexes)    object\n",
       "New HIV infections (per 1000 uninfected population) (Male)          object\n",
       "New HIV infections (per 1000 uninfected population) (Female)        object\n",
       "Number of deaths due to HIV/AIDS                                    object\n",
       "PEOPLE HAVING HIV                                                   object\n",
       "dtype: object"
      ]
     },
     "execution_count": 41,
     "metadata": {},
     "output_type": "execute_result"
    }
   ],
   "source": [
    "df_merge2.dtypes"
   ]
  },
  {
   "cell_type": "markdown",
   "metadata": {},
   "source": [
    "**Correcting The Datatypes**"
   ]
  },
  {
   "cell_type": "code",
   "execution_count": 42,
   "metadata": {},
   "outputs": [],
   "source": [
    "df_merge2['Number of new HIV infections'] = df_merge2['Number of new HIV infections'].astype(str).astype(int)\n",
    "\n",
    "df_merge2['New HIV infections (per 1000 uninfected population) (Both Sexes)'] = df_merge2['New HIV infections (per 1000 uninfected population) (Both Sexes)'].astype(str).astype(float)\n",
    "\n",
    "df_merge2['New HIV infections (per 1000 uninfected population) (Male)'] = df_merge2['New HIV infections (per 1000 uninfected population) (Male)'].astype(str).astype(float)\n",
    "\n",
    "df_merge2['New HIV infections (per 1000 uninfected population) (Female)'] = df_merge2['New HIV infections (per 1000 uninfected population) (Female)'].astype(str).astype(float)\n",
    "\n",
    "df_merge2['Number of deaths due to HIV/AIDS'] = df_merge2['Number of deaths due to HIV/AIDS'].astype(str).astype(int)\n",
    "\n",
    "df_merge2['PEOPLE HAVING HIV'] = df_merge2['PEOPLE HAVING HIV'].astype(str).astype(int)\n"
   ]
  },
  {
   "cell_type": "code",
   "execution_count": 43,
   "metadata": {},
   "outputs": [
    {
     "data": {
      "text/plain": [
       "WHO region                                                           object\n",
       "Year                                                                 object\n",
       "Number of new HIV infections                                          int32\n",
       "New HIV infections (per 1000 uninfected population) (Both Sexes)    float64\n",
       "New HIV infections (per 1000 uninfected population) (Male)          float64\n",
       "New HIV infections (per 1000 uninfected population) (Female)        float64\n",
       "Number of deaths due to HIV/AIDS                                      int32\n",
       "PEOPLE HAVING HIV                                                     int32\n",
       "dtype: object"
      ]
     },
     "execution_count": 43,
     "metadata": {},
     "output_type": "execute_result"
    }
   ],
   "source": [
    "df_merge2.dtypes"
   ]
  },
  {
   "cell_type": "markdown",
   "metadata": {},
   "source": [
    "# Exporting The Final Sheet For Visualization In Tableau"
   ]
  },
  {
   "cell_type": "code",
   "execution_count": 44,
   "metadata": {},
   "outputs": [],
   "source": [
    "df_merge2.to_excel('HIV_FINAL.xlsx')"
   ]
  }
 ],
 "metadata": {
  "kernelspec": {
   "display_name": "Python 3",
   "language": "python",
   "name": "python3"
  },
  "language_info": {
   "codemirror_mode": {
    "name": "ipython",
    "version": 3
   },
   "file_extension": ".py",
   "mimetype": "text/x-python",
   "name": "python",
   "nbconvert_exporter": "python",
   "pygments_lexer": "ipython3",
   "version": "3.8.3"
  }
 },
 "nbformat": 4,
 "nbformat_minor": 4
}
